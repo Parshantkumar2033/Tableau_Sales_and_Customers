{
 "cells": [
  {
   "cell_type": "code",
   "execution_count": 1,
   "id": "e1695aeb",
   "metadata": {},
   "outputs": [],
   "source": [
    "import pandas as pd\n",
    "from ydata_profiling import ProfileReport"
   ]
  },
  {
   "cell_type": "code",
   "execution_count": 6,
   "id": "5d7b19ff",
   "metadata": {},
   "outputs": [],
   "source": [
    "cus = pd.read_csv('Customers.csv')\n",
    "loc = pd.read_csv('Location.csv')\n",
    "ordr = pd.read_csv('Orders.csv')\n",
    "pro = pd.read_csv('Products.csv')"
   ]
  },
  {
   "cell_type": "code",
   "execution_count": 8,
   "id": "a3872055",
   "metadata": {},
   "outputs": [
    {
     "name": "stderr",
     "output_type": "stream",
     "text": [
      "Summarize dataset: 100%|████████████████████████████████████████████████████| 11/11 [00:00<00:00, 39.98it/s, Completed]\n",
      "Generate report structure: 100%|█████████████████████████████████████████████████████████| 1/1 [00:00<00:00,  5.22it/s]\n",
      "Render HTML: 100%|███████████████████████████████████████████████████████████████████████| 1/1 [00:00<00:00, 11.62it/s]\n",
      "Export report to file: 100%|████████████████████████████████████████████████████████████| 1/1 [00:00<00:00, 499.74it/s]\n",
      "Summarize dataset: 100%|████████████████████████████████████████████████████| 15/15 [00:00<00:00, 27.81it/s, Completed]\n",
      "Generate report structure: 100%|█████████████████████████████████████████████████████████| 1/1 [00:00<00:00,  1.11it/s]\n",
      "Render HTML: 100%|███████████████████████████████████████████████████████████████████████| 1/1 [00:00<00:00,  5.59it/s]\n",
      "Export report to file: 100%|████████████████████████████████████████████████████████████| 1/1 [00:00<00:00, 335.22it/s]\n",
      "Summarize dataset: 100%|████████████████████████████████████████████████████| 58/58 [00:04<00:00, 11.60it/s, Completed]\n",
      "Generate report structure: 100%|█████████████████████████████████████████████████████████| 1/1 [00:02<00:00,  2.03s/it]\n",
      "Render HTML: 100%|███████████████████████████████████████████████████████████████████████| 1/1 [00:00<00:00,  1.01it/s]\n",
      "Export report to file: 100%|█████████████████████████████████████████████████████████████| 1/1 [00:00<00:00, 83.09it/s]\n",
      "Summarize dataset: 100%|████████████████████████████████████████████████████| 14/14 [00:00<00:00, 22.54it/s, Completed]\n",
      "Generate report structure: 100%|█████████████████████████████████████████████████████████| 1/1 [00:00<00:00,  1.61it/s]\n",
      "Render HTML: 100%|███████████████████████████████████████████████████████████████████████| 1/1 [00:00<00:00,  5.52it/s]\n",
      "Export report to file: 100%|████████████████████████████████████████████████████████████| 1/1 [00:00<00:00, 493.10it/s]\n"
     ]
    }
   ],
   "source": [
    "customers = ProfileReport(cus, title = \"Customers\", explorative=True)\n",
    "customers.to_file(\"Customers.html\")\n",
    "\n",
    "location = ProfileReport(loc, title = \"Location\", explorative=True)\n",
    "location.to_file(\"Location.html\")\n",
    "\n",
    "orders = ProfileReport(ordr, title = \"Orders\", explorative=True)\n",
    "orders.to_file(\"Orders.html\")\n",
    "\n",
    "products = ProfileReport(pro, title = \"Products\", explorative=True)\n",
    "products.to_file(\"Products.html\")"
   ]
  },
  {
   "cell_type": "code",
   "execution_count": null,
   "id": "55baa5b9",
   "metadata": {},
   "outputs": [],
   "source": []
  }
 ],
 "metadata": {
  "kernelspec": {
   "display_name": "Python 3 (ipykernel)",
   "language": "python",
   "name": "python3"
  },
  "language_info": {
   "codemirror_mode": {
    "name": "ipython",
    "version": 3
   },
   "file_extension": ".py",
   "mimetype": "text/x-python",
   "name": "python",
   "nbconvert_exporter": "python",
   "pygments_lexer": "ipython3",
   "version": "3.9.19"
  }
 },
 "nbformat": 4,
 "nbformat_minor": 5
}
